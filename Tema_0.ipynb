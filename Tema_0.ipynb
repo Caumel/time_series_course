{
 "cells": [
  {
   "cell_type": "markdown",
   "id": "fd9c7e28",
   "metadata": {},
   "source": [
    "# Tutorial Basico Python"
   ]
  },
  {
   "cell_type": "markdown",
   "id": "7f8e6d09",
   "metadata": {},
   "source": [
    "1. Introducción a Python\n",
    "2. Tipos de datos y variables\n",
    "3. Operadores\n",
    "4. Estructuras de control (if, for, while)\n",
    "5. Funciones\n",
    "6. Manejo de listas y diccionarios\n",
    "7. Entrada y salida de datos\n",
    "8. Manejo de archivos\n",
    "9. Introducción a NumPy y Pandas (opcional)"
   ]
  },
  {
   "cell_type": "markdown",
   "id": "025e39ca",
   "metadata": {},
   "source": [
    "# Introducción a Python \n",
    "\n",
    "Python es un lenguaje de programación interpretado, fácil de aprender y ampliamente utilizado en ciencia de datos, desarrollo web e inteligencia artificial.\n",
    "\n",
    "En este notebook aprenderemos los conceptos básicos de Python."
   ]
  },
  {
   "cell_type": "markdown",
   "id": "b27d5645",
   "metadata": {},
   "source": [
    "## Tipos de Datos y Variables \n",
    "\n",
    "Python tiene varios tipos de datos básicos:\n",
    "- **Enteros (`int`)**: números enteros.\n",
    "- **Flotantes (`float`)**: números decimales.\n",
    "- **Cadenas (`str`)**: texto.\n",
    "- **Booleanos (`bool`)**: `True` o `False`.\n",
    "\n",
    "Veamos algunos ejemplos:"
   ]
  },
  {
   "cell_type": "code",
   "execution_count": 1,
   "id": "5e8e8dc6",
   "metadata": {},
   "outputs": [
    {
     "name": "stdout",
     "output_type": "stream",
     "text": [
      "<class 'int'> <class 'float'> <class 'str'> <class 'bool'>\n"
     ]
    }
   ],
   "source": [
    "# Definición de variables\n",
    "entero = 10\n",
    "flotante = 3.14\n",
    "cadena = \"Hola, Python\"\n",
    "booleano = True\n",
    "\n",
    "# Imprimir tipos de datos\n",
    "print(type(entero), type(flotante), type(cadena), type(booleano))"
   ]
  },
  {
   "cell_type": "markdown",
   "id": "45c834c6",
   "metadata": {},
   "source": [
    "## Operadores en Python \n",
    "\n",
    "Python soporta operadores aritméticos, lógicos y de comparación:\n",
    "\n",
    "- **Aritméticos**: `+`, `-`, `*`, `/`, `//`, `%`, `**`\n",
    "- **Comparación**: `==`, `!=`, `<`, `>`, `<=`, `>=`\n",
    "- **Lógicos**: `and`, `or`, `not`\n",
    "\n",
    "Ejemplo:"
   ]
  },
  {
   "cell_type": "code",
   "execution_count": 2,
   "id": "dc6c0349",
   "metadata": {},
   "outputs": [
    {
     "name": "stdout",
     "output_type": "stream",
     "text": [
      "Suma: 13\n",
      "Resta: 7\n",
      "Multiplicación: 30\n",
      "División: 3.3333333333333335\n",
      "División entera: 3\n",
      "Módulo: 1\n",
      "Exponente: 1000\n"
     ]
    }
   ],
   "source": [
    "# Operaciones matemáticas\n",
    "a = 10\n",
    "b = 3\n",
    "print(\"Suma:\", a + b)\n",
    "print(\"Resta:\", a - b)\n",
    "print(\"Multiplicación:\", a * b)\n",
    "print(\"División:\", a / b)\n",
    "print(\"División entera:\", a // b)\n",
    "print(\"Módulo:\", a % b)\n",
    "print(\"Exponente:\", a ** b)"
   ]
  },
  {
   "cell_type": "markdown",
   "id": "d128103d",
   "metadata": {},
   "source": [
    "## Condicionales en Python \n",
    "\n",
    "Usamos `if`, `elif` y `else` para tomar decisiones en el código:"
   ]
  },
  {
   "cell_type": "code",
   "execution_count": 3,
   "id": "573bd708",
   "metadata": {},
   "outputs": [
    {
     "name": "stdout",
     "output_type": "stream",
     "text": [
      "Eres mayor de edad\n"
     ]
    }
   ],
   "source": [
    "edad = 18\n",
    "\n",
    "if edad >= 18:\n",
    "    print(\"Eres mayor de edad\")\n",
    "else:\n",
    "    print(\"Eres menor de edad\")"
   ]
  },
  {
   "cell_type": "markdown",
   "id": "812f3b32",
   "metadata": {},
   "source": [
    "## Bucles en Python \n",
    "\n",
    "Podemos repetir código usando `for` y `while`. \n",
    "\n",
    "**Ejemplo de `for` con una lista:**"
   ]
  },
  {
   "cell_type": "code",
   "execution_count": 4,
   "id": "294870cd",
   "metadata": {},
   "outputs": [
    {
     "name": "stdout",
     "output_type": "stream",
     "text": [
      "Me gusta manzana\n",
      "Me gusta banana\n",
      "Me gusta cereza\n"
     ]
    }
   ],
   "source": [
    "frutas = [\"manzana\", \"banana\", \"cereza\"]\n",
    "\n",
    "for fruta in frutas:\n",
    "    print(\"Me gusta\", fruta)"
   ]
  },
  {
   "cell_type": "markdown",
   "id": "32816611",
   "metadata": {},
   "source": [
    "## Funciones en Python \n",
    "\n",
    "Las funciones nos ayudan a reutilizar código."
   ]
  },
  {
   "cell_type": "code",
   "execution_count": 5,
   "id": "355eccd6",
   "metadata": {},
   "outputs": [
    {
     "name": "stdout",
     "output_type": "stream",
     "text": [
      "Hola, Python!\n"
     ]
    }
   ],
   "source": [
    "def saludo(nombre):\n",
    "    return f\"Hola, {nombre}!\"\n",
    "\n",
    "print(saludo(\"Python\"))"
   ]
  },
  {
   "cell_type": "markdown",
   "id": "6f984030",
   "metadata": {},
   "source": [
    "## Listas y Diccionarios \n",
    "\n",
    "- **Lista (`list`)**: colección ordenada de elementos.\n",
    "- **Diccionario (`dict`)**: colección de pares clave-valor."
   ]
  },
  {
   "cell_type": "code",
   "execution_count": 6,
   "id": "aaa830c4",
   "metadata": {},
   "outputs": [
    {
     "name": "stdout",
     "output_type": "stream",
     "text": [
      "[1, 2, 3, 4, 5]\n",
      "Juan tiene 25 años.\n"
     ]
    }
   ],
   "source": [
    "# Lista de números\n",
    "numeros = [1, 2, 3, 4, 5]\n",
    "\n",
    "# Diccionario con información\n",
    "persona = {\"nombre\": \"Juan\", \"edad\": 25, \"ciudad\": \"Madrid\"}\n",
    "\n",
    "print(numeros)\n",
    "print(persona[\"nombre\"], \"tiene\", persona[\"edad\"], \"años.\")"
   ]
  },
  {
   "cell_type": "markdown",
   "id": "b5bc8ab6",
   "metadata": {},
   "source": [
    "## Entrada y Salida de Datos \n",
    "\n",
    "Podemos usar `input()` para leer datos y `print()` para mostrarlos:"
   ]
  },
  {
   "cell_type": "code",
   "execution_count": 7,
   "id": "88aee255",
   "metadata": {},
   "outputs": [
    {
     "name": "stdout",
     "output_type": "stream",
     "text": [
      "Hola, !\n"
     ]
    }
   ],
   "source": [
    "nombre = input(\"¿Cómo te llamas? \")\n",
    "print(\"Hola, \" + nombre + \"!\")"
   ]
  },
  {
   "cell_type": "markdown",
   "id": "44f952a3",
   "metadata": {},
   "source": [
    "## Manejo de Archivos en Python \n",
    "\n",
    "Podemos leer y escribir archivos de texto con `open()`."
   ]
  },
  {
   "cell_type": "code",
   "execution_count": 8,
   "id": "fac48ba2",
   "metadata": {},
   "outputs": [
    {
     "name": "stdout",
     "output_type": "stream",
     "text": [
      "Contenido del archivo: Hola, este es un archivo de texto.\n"
     ]
    }
   ],
   "source": [
    "# Escribir en un archivo\n",
    "with open(\"archivo.txt\", \"w\") as archivo:\n",
    "    archivo.write(\"Hola, este es un archivo de texto.\")\n",
    "\n",
    "# Leer el archivo\n",
    "with open(\"archivo.txt\", \"r\") as archivo:\n",
    "    contenido = archivo.read()\n",
    "\n",
    "print(\"Contenido del archivo:\", contenido)"
   ]
  },
  {
   "cell_type": "markdown",
   "id": "845166d6",
   "metadata": {},
   "source": [
    "## Introducción a NumPy y Pandas \n",
    "\n",
    "Estas librerías son muy útiles para manipulación de datos en Python."
   ]
  },
  {
   "cell_type": "code",
   "execution_count": 9,
   "id": "e12290fd",
   "metadata": {},
   "outputs": [
    {
     "name": "stdout",
     "output_type": "stream",
     "text": [
      "Array de NumPy: [1 2 3 4 5]\n",
      "  Nombre  Edad\n",
      "0    Ana    25\n",
      "1   Luis    30\n"
     ]
    }
   ],
   "source": [
    "import numpy as np\n",
    "import pandas as pd\n",
    "\n",
    "# Crear un array de NumPy\n",
    "arr = np.array([1, 2, 3, 4, 5])\n",
    "print(\"Array de NumPy:\", arr)\n",
    "\n",
    "# Crear un DataFrame de Pandas\n",
    "df = pd.DataFrame({\"Nombre\": [\"Ana\", \"Luis\"], \"Edad\": [25, 30]})\n",
    "print(df)"
   ]
  },
  {
   "cell_type": "markdown",
   "id": "7935e71c",
   "metadata": {},
   "source": [
    "# ¡Listo! "
   ]
  }
 ],
 "metadata": {
  "kernelspec": {
   "display_name": "time_series_course",
   "language": "python",
   "name": "python3"
  },
  "language_info": {
   "codemirror_mode": {
    "name": "ipython",
    "version": 3
   },
   "file_extension": ".py",
   "mimetype": "text/x-python",
   "name": "python",
   "nbconvert_exporter": "python",
   "pygments_lexer": "ipython3",
   "version": "3.10.16"
  }
 },
 "nbformat": 4,
 "nbformat_minor": 5
}
